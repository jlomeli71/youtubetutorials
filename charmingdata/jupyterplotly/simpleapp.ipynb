{
 "cells": [
  {
   "cell_type": "code",
   "execution_count": 1,
   "id": "3d4c8d2f-c78d-477e-a86d-d24a53b5be43",
   "metadata": {},
   "outputs": [
    {
     "name": "stderr",
     "output_type": "stream",
     "text": [
      "C:\\Users\\jmlom\\AppData\\Local\\Temp\\ipykernel_9144\\3472232970.py:2: UserWarning: \n",
      "The dash_core_components package is deprecated. Please replace\n",
      "`import dash_core_components as dcc` with `from dash import dcc`\n",
      "  import dash_core_components as dcc\n",
      "C:\\Users\\jmlom\\AppData\\Local\\Temp\\ipykernel_9144\\3472232970.py:3: UserWarning: \n",
      "The dash_html_components package is deprecated. Please replace\n",
      "`import dash_html_components as html` with `from dash import html`\n",
      "  import dash_html_components as html\n"
     ]
    },
    {
     "data": {
      "text/html": [
       "\n",
       "        <iframe\n",
       "            width=\"100%\"\n",
       "            height=\"650\"\n",
       "            src=\"http://127.0.0.1:8050/\"\n",
       "            frameborder=\"0\"\n",
       "            allowfullscreen\n",
       "            \n",
       "        ></iframe>\n",
       "        "
      ],
      "text/plain": [
       "<IPython.lib.display.IFrame at 0x2c2e1bab700>"
      ]
     },
     "metadata": {},
     "output_type": "display_data"
    }
   ],
   "source": [
    "import dash\n",
    "import dash_core_components as dcc\n",
    "import dash_html_components as html\n",
    "from dash.dependencies import Output, Input\n",
    "import plotly.express as px\n",
    "\n",
    "df = px.data.gapminder()\n",
    "\n",
    "external_stylesheets = ['https://codepen.io/chriddyp/pen/bWLwgP.css']\n",
    "app = dash.Dash(__name__, external_stylesheets=external_stylesheets)\n",
    "\n",
    "app.layout = html.Div([\n",
    "    dcc.Dropdown(id='dpdn2', value=['Germany','Brazil'], multi=True,\n",
    "                 options=[{'label': x, 'value': x} for x in\n",
    "                          df.country.unique()]),\n",
    "    html.Div([\n",
    "        dcc.Graph(id='pie-graph', figure={}, className='six columns'),\n",
    "        dcc.Graph(id='my-graph', figure={}, clickData=None, hoverData=None,\n",
    "                  config={\n",
    "                      'staticPlot': False,     # True, False\n",
    "                      'scrollZoom': True,      # True, False\n",
    "                      'doubleClick': 'reset',  # 'reset', 'autosize' or 'reset+autosize', False\n",
    "                      'showTips': False,       # True, False\n",
    "                      'displayModeBar': True,  # True, False, 'hover'\n",
    "                      'watermark': True,\n",
    "                      # 'modeBarButtonsToAdd': ['pan2d','select2d'],\n",
    "                        },\n",
    "                  className='six columns'\n",
    "                  )\n",
    "    ])\n",
    "])\n",
    "\n",
    "\n",
    "@app.callback(\n",
    "    Output(component_id='my-graph', component_property='figure'),\n",
    "    Input(component_id='dpdn2', component_property='value'),\n",
    ")\n",
    "def update_graph(country_chosen):\n",
    "    dff = df[df.country.isin(country_chosen)]\n",
    "    fig = px.line(data_frame=dff, x='year', y='gdpPercap', color='country',\n",
    "                  custom_data=['country', 'continent', 'lifeExp', 'pop'])\n",
    "    fig.update_traces(mode='lines+markers')\n",
    "    return fig\n",
    "\n",
    "\n",
    "# Dash version 1.16.0 or higher\n",
    "@app.callback(\n",
    "    Output(component_id='pie-graph', component_property='figure'),\n",
    "    Input(component_id='my-graph', component_property='hoverData'),\n",
    "    Input(component_id='my-graph', component_property='clickData'),\n",
    "    Input(component_id='my-graph', component_property='selectedData'),\n",
    "    Input(component_id='dpdn2', component_property='value')\n",
    ")\n",
    "def update_side_graph(hov_data, clk_data, slct_data, country_chosen):\n",
    "    if hov_data is None:\n",
    "        dff2 = df[df.country.isin(country_chosen)]\n",
    "        dff2 = dff2[dff2.year == 1952]\n",
    "        print(dff2)\n",
    "        fig2 = px.pie(data_frame=dff2, values='pop', names='country',\n",
    "                      title='Population for 1952')\n",
    "        return fig2\n",
    "    else:\n",
    "        print(f'hover data: {hov_data}')\n",
    "        print(hov_data['points'][0]['customdata'][0])\n",
    "        print(f'click data: {clk_data}')\n",
    "        print(f'selected data: {slct_data}')\n",
    "        dff2 = df[df.country.isin(country_chosen)]\n",
    "        hov_year = hov_data['points'][0]['x']\n",
    "        dff2 = dff2[dff2.year == hov_year]\n",
    "        fig2 = px.pie(data_frame=dff2, values='pop', names='country', title=f'Population for: {hov_year}')\n",
    "        return fig2\n",
    "\n",
    "\n",
    "if __name__ == '__main__':\n",
    "    app.run_server(debug=False)"
   ]
  },
  {
   "cell_type": "code",
   "execution_count": null,
   "id": "f134914a-fd56-43af-8c2e-0c0ca59b15c6",
   "metadata": {},
   "outputs": [],
   "source": []
  }
 ],
 "metadata": {
  "kernelspec": {
   "display_name": "Python 3 (ipykernel)",
   "language": "python",
   "name": "python3"
  },
  "language_info": {
   "codemirror_mode": {
    "name": "ipython",
    "version": 3
   },
   "file_extension": ".py",
   "mimetype": "text/x-python",
   "name": "python",
   "nbconvert_exporter": "python",
   "pygments_lexer": "ipython3",
   "version": "3.9.7"
  }
 },
 "nbformat": 4,
 "nbformat_minor": 5
}
